{
  "nbformat": 4,
  "nbformat_minor": 0,
  "metadata": {
    "colab": {
      "name": "Roomba.ipynb",
      "provenance": [],
      "collapsed_sections": [],
      "authorship_tag": "ABX9TyOp+4GBOhOoDLZMmP6uAAiL",
      "include_colab_link": true
    },
    "kernelspec": {
      "name": "python3",
      "display_name": "Python 3"
    }
  },
  "cells": [
    {
      "cell_type": "markdown",
      "metadata": {
        "id": "view-in-github",
        "colab_type": "text"
      },
      "source": [
        "<a href=\"https://colab.research.google.com/github/stygian2a/RoombaGym/blob/master/Roomba.ipynb\" target=\"_parent\"><img src=\"https://colab.research.google.com/assets/colab-badge.svg\" alt=\"Open In Colab\"/></a>"
      ]
    },
    {
      "cell_type": "markdown",
      "metadata": {
        "id": "rWiBtpYF94SJ",
        "colab_type": "text"
      },
      "source": [
        "# TODO\n"
      ]
    },
    {
      "cell_type": "code",
      "metadata": {
        "id": "wulGtGETJS43",
        "colab_type": "code",
        "colab": {}
      },
      "source": [
        "#remove \" > /dev/null 2>&1\" to see what is going on under the hood\n",
        "!pip install gym pyvirtualdisplay > /dev/null 2>&1\n",
        "!apt-get install -y xvfb python-opengl ffmpeg > /dev/null 2>&1"
      ],
      "execution_count": 0,
      "outputs": []
    },
    {
      "cell_type": "code",
      "metadata": {
        "id": "3sst-q00Jj75",
        "colab_type": "code",
        "colab": {
          "base_uri": "https://localhost:8080/",
          "height": 34
        },
        "outputId": "6921cac4-4d67-40d5-eea8-8f55e60426c8"
      },
      "source": [
        "!apt-get update > /dev/null 2>&1\n",
        "!apt-get install cmake > /dev/null 2>&1\n",
        "!pip install --upgrade setuptools 2>&1\n",
        "!pip install ez_setup > /dev/null 2>&1\n",
        "!pip install gym[atari] > /dev/null 2>&1\n",
        "!apt-get install x11-utils > /dev/null 2>&1\n",
        "!wget https://github.com/stygian2a/RoombaGym/blob/master/rendering.py"
      ],
      "execution_count": 11,
      "outputs": [
        {
          "output_type": "stream",
          "text": [
            "Requirement already up-to-date: setuptools in /usr/local/lib/python3.6/dist-packages (45.1.0)\n"
          ],
          "name": "stdout"
        }
      ]
    },
    {
      "cell_type": "code",
      "metadata": {
        "id": "BkEsC4AiJk8t",
        "colab_type": "code",
        "colab": {
          "base_uri": "https://localhost:8080/",
          "height": 63
        },
        "outputId": "c777ed06-282f-4180-dd10-3d705bfc5298"
      },
      "source": [
        "import gym\n",
        "from gym import spaces\n",
        "from gym import logger as gymlogger\n",
        "from gym.wrappers import Monitor\n",
        "gymlogger.set_level(40) #error only\n",
        "import tensorflow as tf\n",
        "import numpy as np\n",
        "import random\n",
        "import matplotlib\n",
        "import matplotlib.pyplot as plt\n",
        "%matplotlib inline\n",
        "import math\n",
        "import glob\n",
        "import io\n",
        "import base64\n",
        "from IPython.display import HTML\n",
        "from IPython.display import clear_output\n",
        "from time import sleep\n",
        "\n",
        "\n",
        "from IPython import display as ipythondisplay"
      ],
      "execution_count": 1,
      "outputs": [
        {
          "output_type": "display_data",
          "data": {
            "text/html": [
              "<p style=\"color: red;\">\n",
              "The default version of TensorFlow in Colab will soon switch to TensorFlow 2.x.<br>\n",
              "We recommend you <a href=\"https://www.tensorflow.org/guide/migrate\" target=\"_blank\">upgrade</a> now \n",
              "or ensure your notebook will continue to use TensorFlow 1.x via the <code>%tensorflow_version 1.x</code> magic:\n",
              "<a href=\"https://colab.research.google.com/notebooks/tensorflow_version.ipynb\" target=\"_blank\">more info</a>.</p>\n"
            ],
            "text/plain": [
              "<IPython.core.display.HTML object>"
            ]
          },
          "metadata": {
            "tags": []
          }
        }
      ]
    },
    {
      "cell_type": "code",
      "metadata": {
        "id": "IKUY0Pr4JmJE",
        "colab_type": "code",
        "colab": {
          "base_uri": "https://localhost:8080/",
          "height": 54
        },
        "outputId": "897db2fc-0df8-4a6f-c2fb-0afa028ccca3"
      },
      "source": [
        "from pyvirtualdisplay import Display\n",
        "display = Display(visible=0, size=(1400, 900))\n",
        "display.start()"
      ],
      "execution_count": 2,
      "outputs": [
        {
          "output_type": "execute_result",
          "data": {
            "text/plain": [
              "<Display cmd_param=['Xvfb', '-br', '-nolisten', 'tcp', '-screen', '0', '1400x900x24', ':1061'] cmd=['Xvfb', '-br', '-nolisten', 'tcp', '-screen', '0', '1400x900x24', ':1061'] oserror=None return_code=None stdout=\"None\" stderr=\"None\" timeout_happened=False>"
            ]
          },
          "metadata": {
            "tags": []
          },
          "execution_count": 2
        }
      ]
    },
    {
      "cell_type": "code",
      "metadata": {
        "id": "lSY6YbVHJunb",
        "colab_type": "code",
        "colab": {}
      },
      "source": [
        "\"\"\"\n",
        "Utility functions to enable video recording of gym environment and displaying it\n",
        "To enable video, just do \"env = wrap_env(env)\"\"\n",
        "\"\"\"\n",
        "\n",
        "def show_video():\n",
        "  mp4list = glob.glob('video/*.mp4')\n",
        "  if len(mp4list) > 0:\n",
        "    mp4 = mp4list[0]\n",
        "    video = io.open(mp4, 'r+b').read()\n",
        "    encoded = base64.b64encode(video)\n",
        "    ipythondisplay.di ~ q§splay(HTML(data='''<video alt=\"test\" autoplay \n",
        "                loop controls style=\"height: 400px;\">\n",
        "                <source src=\"data:video/mp4;base64,{0}\" type=\"video/mp4\" />\n",
        "             </video>'''.format(encoded.decode('ascii'))))\n",
        "  else: \n",
        "    print(\"Could not find video\")\n",
        "    \n",
        "\n",
        "def wrap_env(env):\n",
        "  env = Monitor(env, './video', force=True)\n",
        "  return env"
      ],
      "execution_count": 0,
      "outputs": []
    },
    {
      "cell_type": "code",
      "metadata": {
        "id": "co4CmLT-J-Ev",
        "colab_type": "code",
        "colab": {}
      },
      "source": [
        "\n",
        "class Roomba():\n",
        "  def __init__(self, pos, direction, radius, turn_angle=np.pi/18):\n",
        "    self.pos = np.array(pos)\n",
        "    self.direction = direction\n",
        "    self.radius = radius\n",
        "    self.turn_angle = turn_angle\n",
        "\n",
        "  def set_pos(self, pos):\n",
        "    self.pos = np.array(pos)\n",
        "\n",
        "  def get_forward(self):\n",
        "    new_x = np.sin(self.direction) + self.pos[0]\n",
        "    new_y = np.cos(self.direction) + self.pos[1]\n",
        "    return [new_x, new_y]\n",
        "\n",
        "  def get_backward(self):\n",
        "    new_x = np.sin(self.direction+np.pi) + self.pos[0]\n",
        "    new_y = np.cos(self.direction+np.pi) + self.pos[1]\n",
        "    return [new_x, new_y]\n",
        "\n",
        "  def turn_right(self):\n",
        "    self.direction = (self.direction - self.turn_angle) % (2*np.pi)\n",
        "\n",
        "  def turn_left(self):\n",
        "    self.direction = (self.direction + self.turn_angle) % (2*np.pi)\n",
        "\n",
        "  #https://stackoverflow.com/questions/49551440/python-all-points-on-circle-given-radius-and-center\n",
        "  def get_cases_underneath(self, xmax, ymax):\n",
        "    radius = self.radius\n",
        "    x0 = self.pos[0] - 0.5\n",
        "    y0 = self.pos[1] - 0.5\n",
        "\n",
        "    L = []\n",
        "    x_ = np.arange(x0 - radius - 1, x0 + radius + 1, dtype=int)\n",
        "    y_ = np.arange(y0 - radius - 1, y0 + radius + 1, dtype=int)\n",
        "    x, y = np.where((x_[:,np.newaxis] - x0)**2 + (y_ - y0)**2 <= radius**2)\n",
        "    for x, y in zip(x_[x], y_[y]):\n",
        "      if x>=0 and y>=0 and x<xmax and y<ymax:\n",
        "        L.append((x, y))\n",
        "    return L\n",
        "\n",
        "\n",
        "\n",
        "class RoombaEnv(gym.Env):\n",
        "\n",
        "  metadata = {\n",
        "      'render.modes': ['human', 'rgb_array'],\n",
        "      'video.frames_per_second' : 50\n",
        "  }\n",
        "\n",
        "  def __init__(self, height, width, roomba_radius=2 ):\n",
        "    super(RoombaEnv, self).__init__()\n",
        "\n",
        "    self.action_space = spaces.Discrete(4) #Avancer, Reculer, tourner droite, tourner gauche\n",
        "                                          \n",
        "    \n",
        "    self.observation_space = spaces.Box(low=0, high=4, shape=\n",
        "                    (height, width), dtype=np.uint8) #0=empty/clean, 1=dirty, 2=wall, 3=charging station\n",
        "    \n",
        "    self.room = np.ones((height, width))\n",
        "    self.roomba = Roomba( [height/2,width/2], 0, roomba_radius)\n",
        "    self.width = width\n",
        "    self.height = height\n",
        "    self.viewer = None\n",
        "\n",
        "    self.iteration = 0\n",
        "\n",
        "\n",
        "  def step(self, action):\n",
        "    self.iteration+=1\n",
        "    \n",
        "    if action == 0:\n",
        "      new_pos = self.roomba.get_forward()\n",
        "      if self.is_empty(new_pos):\n",
        "        self.roomba.set_pos(new_pos)\n",
        "\n",
        "    elif action == 1:\n",
        "      new_pos = self.roomba.get_backward()\n",
        "      if self.is_empty(new_pos):\n",
        "        self.roomba.set_pos(new_pos)\n",
        "\n",
        "    elif action == 2:\n",
        "      self.roomba.turn_right()\n",
        "\n",
        "    elif action == 3:\n",
        "      self.roomba.turn_left()\n",
        "\n",
        "    cases_underneath = self.roomba.get_cases_underneath(self.height, self.width)\n",
        "    #TODO: optimize\n",
        "    for case_underneath in cases_underneath:\n",
        "      self.room[case_underneath] = 0\n",
        "    \n",
        "\n",
        "    if self.iteration<1000:\n",
        "      return 1,1,0,1\n",
        "      \n",
        "    return 1,1,1,1\n",
        "\n",
        "  def is_empty(self, new_pos):\n",
        "    x = new_pos[0]\n",
        "    y = new_pos[1]\n",
        "\n",
        "    if y < 0 or x < 0 or x >= self.height or y >= self.width:\n",
        "      return False\n",
        "\n",
        "    if self.room[int(x), int(y)] == 2: #int == floor\n",
        "      return False\n",
        "\n",
        "    return True\n",
        "\n",
        "  def reset(self):\n",
        "    pass\n",
        "\n",
        "  \n",
        "  def render(self, mode='human', close=False):\n",
        "    scale = 6\n",
        "\n",
        "    screen_width = scale*self.width\n",
        "    screen_height = scale*self.height\n",
        "\n",
        "\n",
        "    if self.viewer is None:\n",
        "      #TODO: remove when it works\n",
        "      import importlib\n",
        "      import rendering\n",
        "      importlib.reload(rendering)\n",
        "\n",
        "      #from gym.envs.classic_control import rendering\n",
        "\n",
        "      self.viewer = rendering.Viewer(screen_width, screen_height)\n",
        "\n",
        "\n",
        "      \n",
        "      self.cases = []\n",
        "      for i in range(self.height):\n",
        "        self.cases.append([])\n",
        "        for j in range(self.width):\n",
        "          x0 = i*scale\n",
        "          y0 = j*scale\n",
        "          x1 = (i+1)*scale\n",
        "          y1 = (j+1)*scale\n",
        "          case = rendering.FilledPolygon([(y0,x0), (y0,x1), (y1,x1), (y1,x0)])\n",
        "          self.cases[i].append(case)\n",
        "          self.viewer.add_geom(case)\n",
        "      \n",
        "      circle = rendering.make_circle(radius=self.roomba.radius*scale)\n",
        "      circle.set_color(1,0,0)\n",
        "\n",
        "      direction_circle = rendering.make_circle(radius=self.roomba.radius*scale/2) #color?\n",
        "      direction_circle.add_attr(rendering.Transform(translation=(self.roomba.radius*scale/2,0)))\n",
        "\n",
        "      #direction_line = rendering.Line((0,0), (0,self.roomba.radius*scale)) #color?\n",
        "\n",
        "      tracker = rendering.Compound([circle, direction_circle])\n",
        "\n",
        "      self.tracker_trans = rendering.Transform()\n",
        "      tracker.add_attr(self.tracker_trans)\n",
        "      self.viewer.add_geom(tracker)\n",
        "\n",
        "      \n",
        "    for i in range(self.height):\n",
        "        for j in range(self.width):\n",
        "          if self.room[i,j] == 0:\n",
        "            self.cases[i][j].set_color(1,1,1)\n",
        "          elif self.room[i,j] == 1:\n",
        "            self.cases[i][j].set_color(0.8,0.8,0.8)\n",
        "\n",
        "\n",
        "    self.tracker_trans.set_translation(self.roomba.pos[1]*scale, self.roomba.pos[0]*scale)\n",
        "    self.tracker_trans.set_rotation(self.roomba.direction)\n",
        "\n",
        "\n",
        "    return self.viewer.render(return_rgb_array = mode=='rgb_array')\n",
        "    \n",
        "    \n",
        "\n",
        "    \n"
      ],
      "execution_count": 0,
      "outputs": []
    },
    {
      "cell_type": "code",
      "metadata": {
        "id": "iAJCwnyVJxLs",
        "colab_type": "code",
        "colab": {
          "base_uri": "https://localhost:8080/",
          "height": 421
        },
        "outputId": "e914c95b-b84a-4609-dd23-b5aee0887319"
      },
      "source": [
        "#env = wrap_env(RoombaEnv(10, 10, 2))\n",
        "env = wrap_env(RoombaEnv(20, 20, 2)) #wrap env seems to grow exponentially with H,W?? Maybe scalse\n",
        "#env = wrap_env(gym.make(\"CartPole-v0\"))\n",
        "observation = env.reset()\n",
        "\n",
        "while True:\n",
        "  \n",
        "    env.render()\n",
        "    \n",
        "    #your agent goes here\n",
        "    action = env.action_space.sample() \n",
        "         \n",
        "    observation, reward, done, info = env.step(action) \n",
        "   \n",
        "        \n",
        "    if done: \n",
        "      break;\n",
        "            \n",
        "env.close()\n",
        "show_video()"
      ],
      "execution_count": 49,
      "outputs": [
        {
          "output_type": "display_data",
          "data": {
            "text/html": [
              "<video alt=\"test\" autoplay \n",
              "                loop controls style=\"height: 400px;\">\n",
              "                <source src=\"data:video/mp4;base64,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\" type=\"video/mp4\" />\n",
              "             </video>"
            ],
            "text/plain": [
              "<IPython.core.display.HTML object>"
            ]
          },
          "metadata": {
            "tags": []
          }
        }
      ]
    },
    {
      "cell_type": "code",
      "metadata": {
        "id": "lH_y56Zhxiw8",
        "colab_type": "code",
        "colab": {
          "base_uri": "https://localhost:8080/",
          "height": 204
        },
        "outputId": "d0aa107a-8f2f-4f9c-f913-e04f0d2e334e"
      },
      "source": [
        ""
      ],
      "execution_count": 50,
      "outputs": [
        {
          "output_type": "stream",
          "text": [
            "--2020-02-07 13:14:45--  https://github.com/stygian2a/RoombaGym/blob/master/rendering.py\n",
            "Resolving github.com (github.com)... 140.82.114.3\n",
            "Connecting to github.com (github.com)|140.82.114.3|:443... connected.\n",
            "HTTP request sent, awaiting response... 200 OK\n",
            "Length: unspecified [text/html]\n",
            "Saving to: ‘rendering.py.1’\n",
            "\n",
            "rendering.py.1          [  <=>               ] 174.90K   315KB/s    in 0.6s    \n",
            "\n",
            "2020-02-07 13:14:46 (315 KB/s) - ‘rendering.py.1’ saved [179102]\n",
            "\n"
          ],
          "name": "stdout"
        }
      ]
    },
    {
      "cell_type": "code",
      "metadata": {
        "id": "-KU46lpWydfF",
        "colab_type": "code",
        "colab": {}
      },
      "source": [
        ""
      ],
      "execution_count": 0,
      "outputs": []
    }
  ]
}