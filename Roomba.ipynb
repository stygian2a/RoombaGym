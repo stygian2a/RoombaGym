{
  "nbformat": 4,
  "nbformat_minor": 0,
  "metadata": {
    "colab": {
      "name": "Roomba.ipynb",
      "provenance": [],
      "collapsed_sections": [],
      "toc_visible": true,
      "include_colab_link": true
    },
    "kernelspec": {
      "name": "python3",
      "display_name": "Python 3"
    }
  },
  "cells": [
    {
      "cell_type": "markdown",
      "metadata": {
        "id": "view-in-github",
        "colab_type": "text"
      },
      "source": [
        "<a href=\"https://colab.research.google.com/github/stygian2a/RoombaGym/blob/master/Roomba.ipynb\" target=\"_parent\"><img src=\"https://colab.research.google.com/assets/colab-badge.svg\" alt=\"Open In Colab\"/></a>"
      ]
    },
    {
      "cell_type": "markdown",
      "metadata": {
        "id": "rWiBtpYF94SJ",
        "colab_type": "text"
      },
      "source": [
        "# TODO\n"
      ]
    },
    {
      "cell_type": "code",
      "metadata": {
        "id": "wulGtGETJS43",
        "colab_type": "code",
        "colab": {}
      },
      "source": [
        "#remove \" > /dev/null 2>&1\" to see what is going on under the hood\n",
        "!pip install gym pyvirtualdisplay > /dev/null 2>&1\n",
        "!apt-get install -y xvfb python-opengl ffmpeg > /dev/null 2>&1"
      ],
      "execution_count": 0,
      "outputs": []
    },
    {
      "cell_type": "code",
      "metadata": {
        "id": "3sst-q00Jj75",
        "colab_type": "code",
        "outputId": "58ce83fa-d8c6-4780-98d4-248eb8f76f23",
        "colab": {
          "base_uri": "https://localhost:8080/",
          "height": 454
        }
      },
      "source": [
        "!apt-get update > /dev/null 2>&1\n",
        "!apt-get install cmake > /dev/null 2>&1\n",
        "!pip install --upgrade setuptools 2>&1\n",
        "!pip install ez_setup > /dev/null 2>&1\n",
        "!pip install gym[atari] > /dev/null 2>&1\n",
        "!apt-get install x11-utils > /dev/null 2>&1\n",
        "!wget https://raw.githubusercontent.com/stygian2a/RoombaGym/master/rendering.py"
      ],
      "execution_count": 10,
      "outputs": [
        {
          "output_type": "stream",
          "text": [
            "Requirement already up-to-date: setuptools in /usr/local/lib/python3.6/dist-packages (45.1.0)\n",
            "--2020-02-07 16:51:11--  https://raw.githubusercontent.com/stygian2a/RoombaGym/master/rendering.py\n",
            "Resolving raw.githubusercontent.com (raw.githubusercontent.com)... 151.101.0.133, 151.101.64.133, 151.101.128.133, ...\n",
            "Connecting to raw.githubusercontent.com (raw.githubusercontent.com)|151.101.0.133|:443... connected.\n",
            "HTTP request sent, awaiting response... 200 OK\n",
            "Length: 11819 (12K) [text/plain]\n",
            "Saving to: ‘rendering.py.7’\n",
            "\n",
            "rendering.py.7      100%[===================>]  11.54K  --.-KB/s    in 0s      \n",
            "\n",
            "2020-02-07 16:51:11 (120 MB/s) - ‘rendering.py.7’ saved [11819/11819]\n",
            "\n",
            "Requirement already up-to-date: setuptools in /usr/local/lib/python3.6/dist-packages (45.1.0)\n",
            "--2020-02-07 16:51:51--  https://raw.githubusercontent.com/stygian2a/RoombaGym/master/rendering.py\n",
            "Resolving raw.githubusercontent.com (raw.githubusercontent.com)... 151.101.0.133, 151.101.64.133, 151.101.128.133, ...\n",
            "Connecting to raw.githubusercontent.com (raw.githubusercontent.com)|151.101.0.133|:443... connected.\n",
            "HTTP request sent, awaiting response... 200 OK\n",
            "Length: 11819 (12K) [text/plain]\n",
            "Saving to: ‘rendering.py.8’\n",
            "\n",
            "rendering.py.8      100%[===================>]  11.54K  --.-KB/s    in 0s      \n",
            "\n",
            "2020-02-07 16:51:51 (55.6 MB/s) - ‘rendering.py.8’ saved [11819/11819]\n",
            "\n"
          ],
          "name": "stdout"
        }
      ]
    },
    {
      "cell_type": "code",
      "metadata": {
        "id": "BkEsC4AiJk8t",
        "colab_type": "code",
        "colab": {}
      },
      "source": [
        "import gym\n",
        "from gym import spaces\n",
        "from gym import logger as gymlogger\n",
        "from gym.wrappers import Monitor\n",
        "gymlogger.set_level(40) #error only\n",
        "import tensorflow as tf\n",
        "import numpy as np\n",
        "import random\n",
        "import matplotlib\n",
        "import matplotlib.pyplot as plt\n",
        "%matplotlib inline\n",
        "import math\n",
        "import glob\n",
        "import io\n",
        "import base64\n",
        "from IPython.display import HTML\n",
        "from IPython.display import clear_output\n",
        "from time import sleep\n",
        "\n",
        "\n",
        "from IPython import display as ipythondisplay"
      ],
      "execution_count": 0,
      "outputs": []
    },
    {
      "cell_type": "code",
      "metadata": {
        "id": "IKUY0Pr4JmJE",
        "colab_type": "code",
        "outputId": "c9ba7b92-9379-4af7-b2c5-9a462305e763",
        "colab": {
          "base_uri": "https://localhost:8080/",
          "height": 55
        }
      },
      "source": [
        "from pyvirtualdisplay import Display\n",
        "display = Display(visible=0, size=(1400, 900))\n",
        "display.start()"
      ],
      "execution_count": 3,
      "outputs": [
        {
          "output_type": "execute_result",
          "data": {
            "text/plain": [
              "<Display cmd_param=['Xvfb', '-br', '-nolisten', 'tcp', '-screen', '0', '1400x900x24', ':1013'] cmd=['Xvfb', '-br', '-nolisten', 'tcp', '-screen', '0', '1400x900x24', ':1013'] oserror=None return_code=None stdout=\"None\" stderr=\"None\" timeout_happened=False>"
            ]
          },
          "metadata": {
            "tags": []
          },
          "execution_count": 3
        }
      ]
    },
    {
      "cell_type": "code",
      "metadata": {
        "id": "lSY6YbVHJunb",
        "colab_type": "code",
        "colab": {}
      },
      "source": [
        "\"\"\"\n",
        "Utility functions to enable video recording of gym environment and displaying it\n",
        "To enable video, just do \"env = wrap_env(env)\"\"\n",
        "\"\"\"\n",
        "\n",
        "def show_video():\n",
        "  mp4list = glob.glob('video/*.mp4')\n",
        "  if len(mp4list) > 0:\n",
        "    mp4 = mp4list[0]\n",
        "    video = io.open(mp4, 'r+b').read()\n",
        "    encoded = base64.b64encode(video)\n",
        "    ipythondisplay.display(HTML(data='''<video alt=\"test\" autoplay \n",
        "                loop controls style=\"height: 400px;\">\n",
        "                <source src=\"data:video/mp4;base64,{0}\" type=\"video/mp4\" />\n",
        "             </video>'''.format(encoded.decode('ascii'))))\n",
        "  else: \n",
        "    print(\"Could not find video\")\n",
        "    \n",
        "\n",
        "def wrap_env(env):\n",
        "  env = Monitor(env, './video', force=True)\n",
        "  return env"
      ],
      "execution_count": 0,
      "outputs": []
    },
    {
      "cell_type": "code",
      "metadata": {
        "id": "co4CmLT-J-Ev",
        "colab_type": "code",
        "colab": {}
      },
      "source": [
        "\n",
        "class Roomba():\n",
        "  def __init__(self, pos, direction, radius, battery, turn_angle=np.pi/18):\n",
        "    self.pos = np.array(pos)\n",
        "    self.direction = direction\n",
        "    self.radius = radius\n",
        "    self.turn_angle = turn_angle\n",
        "    self.battery = battery\n",
        "    self.maxBattery = battery\n",
        "\n",
        "  def set_pos(self, pos):\n",
        "    self.pos = np.array(pos)\n",
        "\n",
        "  def get_forward(self):\n",
        "    new_x = np.sin(self.direction) + self.pos[0]\n",
        "    new_y = np.cos(self.direction) + self.pos[1]\n",
        "    return [new_x, new_y]\n",
        "\n",
        "  def get_backward(self):\n",
        "    new_x = np.sin(self.direction+np.pi) + self.pos[0]\n",
        "    new_y = np.cos(self.direction+np.pi) + self.pos[1]\n",
        "    return [new_x, new_y]\n",
        "\n",
        "  def turn_right(self):\n",
        "    self.direction = (self.direction - self.turn_angle) % (2*np.pi)\n",
        "\n",
        "  def turn_left(self):\n",
        "    self.direction = (self.direction + self.turn_angle) % (2*np.pi)\n",
        "\n",
        "  #https://stackoverflow.com/questions/49551440/python-all-points-on-circle-given-radius-and-center\n",
        "  def get_cases_underneath(self, xmax, ymax, pos = None):\n",
        "    if pos == None:\n",
        "      pos = self.pos\n",
        "    radius = self.radius\n",
        "    x0 = pos[0] - 0.5\n",
        "    y0 = pos[1] - 0.5\n",
        "\n",
        "    L = []\n",
        "    x_ = np.arange(x0 - radius - 1, x0 + radius + 1, dtype=int)\n",
        "    y_ = np.arange(y0 - radius - 1, y0 + radius + 1, dtype=int)\n",
        "    x, y = np.where((x_[:,np.newaxis] - x0)**2 + (y_ - y0)**2 <= radius**2)\n",
        "    for x, y in zip(x_[x], y_[y]):\n",
        "      if x>=0 and y>=0 and x<xmax and y<ymax:\n",
        "        L.append((x, y))\n",
        "    return L"
      ],
      "execution_count": 0,
      "outputs": []
    },
    {
      "cell_type": "code",
      "metadata": {
        "id": "Qo-WkUPD-Q_k",
        "colab_type": "code",
        "colab": {}
      },
      "source": [
        "class RoombaEnv(gym.Env):\n",
        "\n",
        "  metadata = {\n",
        "      'render.modes': ['human', 'rgb_array'],\n",
        "      'video.frames_per_second' : 50\n",
        "  }\n",
        "\n",
        "  def __init__(self, height, width, battery, roomba_radius=2):\n",
        "    super(RoombaEnv, self).__init__()\n",
        "\n",
        "    self.action_space = spaces.Discrete(4) #Forward, Backwards, Right, Left\n",
        "                                          \n",
        "    self.observation_space = spaces.Box(low=0, high=4, shape=\n",
        "                    (height, width), dtype=np.uint8) #0=empty/clean, 1=dirty, 2=wall, 3=charging station\n",
        "    \n",
        "    self.room = np.ones((height, width))\n",
        "    obstacles = [[5,5], [5,6], [5,7], [5,8], [6,5], [7,5]]\n",
        "    for obstIndex in obstacles:\n",
        "      self.room[obstIndex[0],obstIndex[1]]= 2\n",
        "    self.room[height-1, width-1] = 3\n",
        "    self.roomba = Roomba( [height/2,width/2], 0, roomba_radius, battery)\n",
        "    self.width = width\n",
        "    self.height = height\n",
        "    self.viewer = None\n",
        "\n",
        "    self.iteration = 0\n",
        "    self.SumRewards = 0\n",
        "\n",
        "  def get_reward(self):\n",
        "    cases_underneath = self.roomba.get_cases_underneath(self.height, self.width)\n",
        "    #TODO: optimize\n",
        "    reward = 0\n",
        "    for case_underneath in cases_underneath:\n",
        "      if self.room[case_underneath] == 1:\n",
        "        self.room[case_underneath] = 0\n",
        "        reward += 2\n",
        "      if self.room[case_underneath] == 0:\n",
        "        reward -= 1\n",
        "      if self.room[case_underneath] == 3:\n",
        "        self.roomba.battery = self.roomba.maxBattery\n",
        "    self.roomba.battery -= 1\n",
        "    if self.roomba.battery <= 0:\n",
        "      reward -= 10000\n",
        "    return reward\n",
        "\n",
        "  def step(self, action):\n",
        "    self.iteration+=1\n",
        "    \n",
        "    if action == 0:\n",
        "      new_pos = self.roomba.get_forward()\n",
        "      if self.is_safe(new_pos):\n",
        "        self.roomba.set_pos(new_pos)\n",
        "\n",
        "    elif action == 1:\n",
        "      new_pos = self.roomba.get_backward()\n",
        "      if self.is_safe(new_pos):\n",
        "        self.roomba.set_pos(new_pos)\n",
        "\n",
        "    elif action == 2:\n",
        "      self.roomba.turn_right()\n",
        "\n",
        "    elif action == 3:\n",
        "      self.roomba.turn_left()\n",
        "\n",
        "    currentReward = self.get_reward()\n",
        "    self.SumRewards += currentReward\n",
        "\n",
        "    if self.iteration>=1000 or self.roomba.battery <= 0:\n",
        "      return 1,currentReward,1,1\n",
        "\n",
        "    return 1,currentReward,0,1\n",
        "\n",
        "  def is_safe(self, new_pos):\n",
        "    x = new_pos[0]\n",
        "    y = new_pos[1]\n",
        "\n",
        "    if y < 0 or x < 0 or x >= self.height or y >= self.width:\n",
        "      return False\n",
        "\n",
        "    cases_underneath = self.roomba.get_cases_underneath(self.height, self.width, new_pos)\n",
        "    for case_underneath in cases_underneath:\n",
        "      if self.room[case_underneath] == 2:\n",
        "        return False\n",
        "\n",
        "    return True\n",
        "\n",
        "  def reset(self):\n",
        "    pass\n",
        "\n",
        "  \n",
        "  def render(self, mode='human', close=False):\n",
        "    scale = 6\n",
        "\n",
        "    screen_width = scale*self.width\n",
        "    screen_height = scale*self.height\n",
        "\n",
        "\n",
        "    if self.viewer is None:\n",
        "      #TODO: remove when it works\n",
        "      import importlib\n",
        "      import rendering\n",
        "      importlib.reload(rendering)\n",
        "\n",
        "      #from gym.envs.classic_control import rendering\n",
        "\n",
        "      self.viewer = rendering.Viewer(screen_width, screen_height)\n",
        "\n",
        "      self.cases = []\n",
        "      for i in range(self.height):\n",
        "        self.cases.append([])\n",
        "        for j in range(self.width):\n",
        "          x0 = i*scale\n",
        "          y0 = j*scale\n",
        "          x1 = (i+1)*scale\n",
        "          y1 = (j+1)*scale\n",
        "          case = rendering.FilledPolygon([(y0,x0), (y0,x1), (y1,x1), (y1,x0)])\n",
        "          self.cases[i].append(case)\n",
        "          self.viewer.add_geom(case)\n",
        "      \n",
        "      circle = rendering.make_circle(radius=self.roomba.radius*scale)\n",
        "      circle.set_color(1,0,0)\n",
        "\n",
        "      direction_circle = rendering.make_circle(radius=self.roomba.radius*scale/2) #color?\n",
        "      direction_circle.add_attr(rendering.Transform(translation=(self.roomba.radius*scale/2,0)))\n",
        "\n",
        "      #direction_line = rendering.Line((0,0), (0,self.roomba.radius*scale)) #color?\n",
        "\n",
        "      tracker = rendering.Compound([circle, direction_circle])\n",
        "\n",
        "      self.tracker_trans = rendering.Transform()\n",
        "      tracker.add_attr(self.tracker_trans)\n",
        "      self.viewer.add_geom(tracker)\n",
        "\n",
        "      \n",
        "    for i in range(self.height):\n",
        "        for j in range(self.width):\n",
        "          if self.room[i,j] == 0:\n",
        "            self.cases[i][j].set_color(1,1,1)\n",
        "          elif self.room[i,j] == 1:\n",
        "            self.cases[i][j].set_color(0.8,0.8,0.8)\n",
        "          elif self.room[i,j] == 2:\n",
        "            self.cases[i][j].set_color(0,0,0)\n",
        "          elif self.room[i,j] == 3:\n",
        "            self.cases[i][j].set_color(0.5,0.5,0)\n",
        "\n",
        "\n",
        "    self.tracker_trans.set_translation(self.roomba.pos[1]*scale, self.roomba.pos[0]*scale)\n",
        "    self.tracker_trans.set_rotation(self.roomba.direction)\n",
        "\n",
        "\n",
        "    return self.viewer.render(return_rgb_array = mode=='rgb_array')"
      ],
      "execution_count": 0,
      "outputs": []
    },
    {
      "cell_type": "code",
      "metadata": {
        "id": "iAJCwnyVJxLs",
        "colab_type": "code",
        "outputId": "a1de1f36-5326-49b7-9913-c3fca8e70eaa",
        "colab": {
          "base_uri": "https://localhost:8080/",
          "height": 421
        }
      },
      "source": [
        "#env = wrap_env(RoombaEnv(10, 10, 2))\n",
        "env = wrap_env(RoombaEnv(20, 20, 500, 1)) #wrap env seems to grow exponentially with H,W?? Maybe scalse\n",
        "#env = wrap_env(gym.make(\"CartPole-v0\"))\n",
        "observation = env.reset()\n",
        "\n",
        "while True:\n",
        "  \n",
        "    env.render()\n",
        "    \n",
        "    #your agent goes here\n",
        "    action = env.action_space.sample() \n",
        "         \n",
        "    observation, reward, done, info = env.step(action)\n",
        "    \n",
        "    if done:\n",
        "      break;\n",
        "            \n",
        "env.close()\n",
        "show_video()"
      ],
      "execution_count": 16,
      "outputs": [
        {
          "output_type": "display_data",
          "data": {
            "text/html": [
              "<video alt=\"test\" autoplay \n",
              "                loop controls style=\"height: 400px;\">\n",
              "                <source src=\"data:video/mp4;base64,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\" type=\"video/mp4\" />\n",
              "             </video>"
            ],
            "text/plain": [
              "<IPython.core.display.HTML object>"
            ]
          },
          "metadata": {
            "tags": []
          }
        }
      ]
    },
    {
      "cell_type": "code",
      "metadata": {
        "id": "lH_y56Zhxiw8",
        "colab_type": "code",
        "colab": {}
      },
      "source": [
        ""
      ],
      "execution_count": 0,
      "outputs": []
    },
    {
      "cell_type": "code",
      "metadata": {
        "id": "-KU46lpWydfF",
        "colab_type": "code",
        "colab": {}
      },
      "source": [
        ""
      ],
      "execution_count": 0,
      "outputs": []
    },
    {
      "cell_type": "code",
      "metadata": {
        "id": "_3Mmg-DL1xSV",
        "colab_type": "code",
        "colab": {}
      },
      "source": [
        ""
      ],
      "execution_count": 0,
      "outputs": []
    }
  ]
}