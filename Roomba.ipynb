{
  "nbformat": 4,
  "nbformat_minor": 0,
  "metadata": {
    "colab": {
      "name": "Roomba.ipynb",
      "provenance": [],
      "collapsed_sections": [],
      "include_colab_link": true
    },
    "kernelspec": {
      "name": "python3",
      "display_name": "Python 3"
    }
  },
  "cells": [
    {
      "cell_type": "markdown",
      "metadata": {
        "id": "view-in-github",
        "colab_type": "text"
      },
      "source": [
        "<a href=\"https://colab.research.google.com/github/stygian2a/RoombaGym/blob/master/Roomba.ipynb\" target=\"_parent\"><img src=\"https://colab.research.google.com/assets/colab-badge.svg\" alt=\"Open In Colab\"/></a>"
      ]
    },
    {
      "cell_type": "markdown",
      "metadata": {
        "id": "rWiBtpYF94SJ",
        "colab_type": "text"
      },
      "source": [
        "# TODO\n"
      ]
    },
    {
      "cell_type": "code",
      "metadata": {
        "id": "wulGtGETJS43",
        "colab_type": "code",
        "colab": {}
      },
      "source": [
        "#remove \" > /dev/null 2>&1\" to see what is going on under the hood\n",
        "!pip install gym pyvirtualdisplay > /dev/null 2>&1\n",
        "!apt-get install -y xvfb python-opengl ffmpeg > /dev/null 2>&1"
      ],
      "execution_count": 0,
      "outputs": []
    },
    {
      "cell_type": "code",
      "metadata": {
        "id": "3sst-q00Jj75",
        "colab_type": "code",
        "outputId": "3d3cf76f-f363-4c5c-ed3d-372463d2067b",
        "colab": {
          "base_uri": "https://localhost:8080/",
          "height": 241
        }
      },
      "source": [
        "!apt-get update > /dev/null 2>&1\n",
        "!apt-get install cmake > /dev/null 2>&1\n",
        "!pip install --upgrade setuptools 2>&1\n",
        "!pip install ez_setup > /dev/null 2>&1\n",
        "!pip install gym[atari] > /dev/null 2>&1\n",
        "!apt-get install x11-utils > /dev/null 2>&1\n",
        "!wget https://raw.githubusercontent.com/stygian2a/RoombaGym/master/rendering.py"
      ],
      "execution_count": 2,
      "outputs": [
        {
          "output_type": "stream",
          "text": [
            "Requirement already up-to-date: setuptools in /usr/local/lib/python3.6/dist-packages (45.2.0)\n",
            "--2020-02-09 13:46:32--  https://raw.githubusercontent.com/stygian2a/RoombaGym/master/rendering.py\n",
            "Resolving raw.githubusercontent.com (raw.githubusercontent.com)... 151.101.0.133, 151.101.64.133, 151.101.128.133, ...\n",
            "Connecting to raw.githubusercontent.com (raw.githubusercontent.com)|151.101.0.133|:443... connected.\n",
            "HTTP request sent, awaiting response... 200 OK\n",
            "Length: 11819 (12K) [text/plain]\n",
            "Saving to: ‘rendering.py’\n",
            "\n",
            "rendering.py        100%[===================>]  11.54K  --.-KB/s    in 0s      \n",
            "\n",
            "2020-02-09 13:46:32 (150 MB/s) - ‘rendering.py’ saved [11819/11819]\n",
            "\n"
          ],
          "name": "stdout"
        }
      ]
    },
    {
      "cell_type": "code",
      "metadata": {
        "id": "BkEsC4AiJk8t",
        "colab_type": "code",
        "colab": {
          "base_uri": "https://localhost:8080/",
          "height": 80
        },
        "outputId": "354e6638-ac4f-4682-d26c-d5638802c4e5"
      },
      "source": [
        "import gym\n",
        "from gym import spaces\n",
        "from gym import logger as gymlogger\n",
        "from gym.wrappers import Monitor\n",
        "gymlogger.set_level(40) #error only\n",
        "import tensorflow as tf\n",
        "import numpy as np\n",
        "import random\n",
        "import matplotlib\n",
        "import matplotlib.pyplot as plt\n",
        "%matplotlib inline\n",
        "import math\n",
        "import glob\n",
        "import io\n",
        "import base64\n",
        "from IPython.display import HTML\n",
        "from IPython.display import clear_output\n",
        "from time import sleep\n",
        "\n",
        "\n",
        "from IPython import display as ipythondisplay"
      ],
      "execution_count": 3,
      "outputs": [
        {
          "output_type": "display_data",
          "data": {
            "text/html": [
              "<p style=\"color: red;\">\n",
              "The default version of TensorFlow in Colab will soon switch to TensorFlow 2.x.<br>\n",
              "We recommend you <a href=\"https://www.tensorflow.org/guide/migrate\" target=\"_blank\">upgrade</a> now \n",
              "or ensure your notebook will continue to use TensorFlow 1.x via the <code>%tensorflow_version 1.x</code> magic:\n",
              "<a href=\"https://colab.research.google.com/notebooks/tensorflow_version.ipynb\" target=\"_blank\">more info</a>.</p>\n"
            ],
            "text/plain": [
              "<IPython.core.display.HTML object>"
            ]
          },
          "metadata": {
            "tags": []
          }
        }
      ]
    },
    {
      "cell_type": "code",
      "metadata": {
        "id": "IKUY0Pr4JmJE",
        "colab_type": "code",
        "outputId": "43443a7d-669a-4292-c1a1-a78a9fd3a4e1",
        "colab": {
          "base_uri": "https://localhost:8080/",
          "height": 54
        }
      },
      "source": [
        "from pyvirtualdisplay import Display\n",
        "display = Display(visible=0, size=(1400, 900))\n",
        "display.start()"
      ],
      "execution_count": 4,
      "outputs": [
        {
          "output_type": "execute_result",
          "data": {
            "text/plain": [
              "<Display cmd_param=['Xvfb', '-br', '-nolisten', 'tcp', '-screen', '0', '1400x900x24', ':1001'] cmd=['Xvfb', '-br', '-nolisten', 'tcp', '-screen', '0', '1400x900x24', ':1001'] oserror=None return_code=None stdout=\"None\" stderr=\"None\" timeout_happened=False>"
            ]
          },
          "metadata": {
            "tags": []
          },
          "execution_count": 4
        }
      ]
    },
    {
      "cell_type": "code",
      "metadata": {
        "id": "lSY6YbVHJunb",
        "colab_type": "code",
        "colab": {}
      },
      "source": [
        "\"\"\"\n",
        "Utility functions to enable video recording of gym environment and displaying it\n",
        "To enable video, just do \"env = wrap_env(env)\"\"\n",
        "\"\"\"\n",
        "\n",
        "def show_video():\n",
        "  mp4list = glob.glob('video/*.mp4')\n",
        "  if len(mp4list) > 0:\n",
        "    mp4 = mp4list[0]\n",
        "    video = io.open(mp4, 'r+b').read()\n",
        "    encoded = base64.b64encode(video)\n",
        "    ipythondisplay.display(HTML(data='''<video alt=\"test\" autoplay \n",
        "                loop controls style=\"height: 400px;\">\n",
        "                <source src=\"data:video/mp4;base64,{0}\" type=\"video/mp4\" />\n",
        "             </video>'''.format(encoded.decode('ascii'))))\n",
        "  else: \n",
        "    print(\"Could not find video\")\n",
        "    \n",
        "\n",
        "def wrap_env(env):\n",
        "  env = Monitor(env, './video', force=True)\n",
        "  return env"
      ],
      "execution_count": 0,
      "outputs": []
    },
    {
      "cell_type": "code",
      "metadata": {
        "id": "co4CmLT-J-Ev",
        "colab_type": "code",
        "colab": {}
      },
      "source": [
        "\n",
        "class Roomba():\n",
        "  def __init__(self, pos, direction, radius, battery, turn_angle=np.pi/18):\n",
        "    self.pos = np.array(pos)\n",
        "    self.direction = direction\n",
        "    self.radius = radius\n",
        "    self.turn_angle = turn_angle\n",
        "    self.battery = battery\n",
        "    self.max_battery = battery\n",
        "\n",
        "  def set_pos(self, pos):\n",
        "    self.pos = np.array(pos)\n",
        "    self.battery -=1\n",
        "\n",
        "  def get_forward(self):\n",
        "    new_x = np.sin(self.direction) + self.pos[0]\n",
        "    new_y = np.cos(self.direction) + self.pos[1]\n",
        "    return [new_x, new_y]\n",
        "\n",
        "  def get_backward(self):\n",
        "    new_x = np.sin(self.direction+np.pi) + self.pos[0]\n",
        "    new_y = np.cos(self.direction+np.pi) + self.pos[1]\n",
        "    return [new_x, new_y]\n",
        "\n",
        "  def turn_right(self):\n",
        "    self.direction = (self.direction - self.turn_angle) % (2*np.pi)\n",
        "    self.battery -=1\n",
        "\n",
        "\n",
        "  def turn_left(self):\n",
        "    self.direction = (self.direction + self.turn_angle) % (2*np.pi)\n",
        "    self.battery -=1\n",
        "\n",
        "  def recharge_battery(self):\n",
        "    self.battery = self.max_battery\n",
        "\n",
        "  def get_life(self):\n",
        "    return self.battery / self.max_battery\n",
        "\n",
        "\n",
        "  #https://stackoverflow.com/questions/49551440/python-all-points-on-circle-given-radius-and-center\n",
        "  def get_cases_underneath(self, xmax, ymax, pos = None):\n",
        "    if pos == None:\n",
        "      pos = self.pos\n",
        "    radius = self.radius\n",
        "    x0 = pos[0] - 0.5\n",
        "    y0 = pos[1] - 0.5\n",
        "\n",
        "    L = []\n",
        "    x_ = np.arange(x0 - radius - 1, x0 + radius + 1, dtype=int)\n",
        "    y_ = np.arange(y0 - radius - 1, y0 + radius + 1, dtype=int)\n",
        "    x, y = np.where((x_[:,np.newaxis] - x0)**2 + (y_ - y0)**2 <= radius**2)\n",
        "    for x, y in zip(x_[x], y_[y]):\n",
        "      if x>=0 and y>=0 and x<xmax and y<ymax:\n",
        "        L.append((x, y))\n",
        "    return L"
      ],
      "execution_count": 0,
      "outputs": []
    },
    {
      "cell_type": "code",
      "metadata": {
        "id": "Qo-WkUPD-Q_k",
        "colab_type": "code",
        "colab": {}
      },
      "source": [
        "class RoombaEnv(gym.Env):\n",
        "\n",
        "  metadata = {\n",
        "      'render.modes': ['human', 'rgb_array'],\n",
        "      'video.frames_per_second' : 50\n",
        "  }\n",
        "\n",
        "  def __init__(self, height, width, battery, roomba_radius=2):\n",
        "    super(RoombaEnv, self).__init__()\n",
        "\n",
        "    self.action_space = spaces.Discrete(4) #Forward, Backwards, Right, Left\n",
        "                                          \n",
        "    self.observation_space = spaces.Tuple([\n",
        "        spaces.Box(low=0, high=4, shape=(height, width), dtype=np.uint8), #0=empty/clean, 1=dirty, 2=wall, 3=charging station\n",
        "        spaces.Box(low=np.array([0, 0, 0, 0]), high=np.array([height, width, 2*np.pi, 1]), dtype=np.float32)\n",
        "    ])\n",
        "    \n",
        "    \n",
        "    self.room = np.ones((height, width))\n",
        "    obstacles = [[5,5], [5,6], [5,7], [5,8], [6,5], [7,5]]\n",
        "    for obstIndex in obstacles:\n",
        "      self.room[obstIndex[0],obstIndex[1]]= 2\n",
        "    self.room[height-1, width-1] = 3\n",
        "    self.roomba = Roomba( [height/2,width/2], 0, roomba_radius, battery)\n",
        "    self.width = width\n",
        "    self.height = height\n",
        "    self.viewer = None\n",
        "    self.done = False\n",
        "\n",
        "    self.iteration = 0\n",
        "    self.sum_rewards = 0\n",
        "\n",
        "  def clean_floor(self):\n",
        "    cases_underneath = self.roomba.get_cases_underneath(self.height, self.width)\n",
        "    #TODO: optimize\n",
        "    reward = 0\n",
        "    for case_underneath in cases_underneath:\n",
        "      if self.room[case_underneath] == 1:\n",
        "        self.room[case_underneath] = 0\n",
        "        reward += 1\n",
        "      if self.room[case_underneath] == 0:\n",
        "        reward -= 0\n",
        "      if self.room[case_underneath] == 3:\n",
        "        self.roomba.recharge_battery()\n",
        "    return reward\n",
        "\n",
        "  def step(self, action):\n",
        "    self.iteration+=1\n",
        "    \n",
        "    if action == 0:\n",
        "      new_pos = self.roomba.get_forward()\n",
        "      if self.is_safe(new_pos):\n",
        "        self.roomba.set_pos(new_pos)\n",
        "\n",
        "    elif action == 1:\n",
        "      new_pos = self.roomba.get_backward()\n",
        "      if self.is_safe(new_pos):\n",
        "        self.roomba.set_pos(new_pos)\n",
        "\n",
        "    elif action == 2:\n",
        "      self.roomba.turn_right()\n",
        "\n",
        "    elif action == 3:\n",
        "      self.roomba.turn_left()\n",
        "      \n",
        "    current_reward = self.clean_floor()\n",
        "\n",
        "    if np.count_nonzero(self.room == 1) == 0:\n",
        "      self.done = True\n",
        "      current_reward += 1000\n",
        "\n",
        "    elif self.roomba.battery <= 0 :\n",
        "      current_reward += -1000\n",
        "\n",
        "    self.sum_rewards += current_reward\n",
        "\n",
        "    if self.iteration>=1000 or self.roomba.battery <= 0:\n",
        "      self.done = True\n",
        "      \n",
        "    return self.get_observation(),current_reward,self.done,1\n",
        "\n",
        "  def is_safe(self, new_pos):\n",
        "    x = new_pos[0]\n",
        "    y = new_pos[1]\n",
        "\n",
        "    if y < 0 or x < 0 or x >= self.height or y >= self.width:\n",
        "      return False\n",
        "\n",
        "    cases_underneath = self.roomba.get_cases_underneath(self.height, self.width, new_pos)\n",
        "    for case_underneath in cases_underneath:\n",
        "      if self.room[case_underneath] == 2:\n",
        "        return False\n",
        "\n",
        "    return True\n",
        "\n",
        "  def get_observation(self):\n",
        "    return (self.room, np.array([self.roomba.pos[0], self.roomba.pos[1], self.roomba.direction, self.roomba.get_life()]))\n",
        "\n",
        "  def reset(self):\n",
        "    return self.get_observation()\n",
        "\n",
        "  def render(self, mode='human', close=False):\n",
        "    scale = 6\n",
        "\n",
        "    screen_width = scale*self.width\n",
        "    screen_height = scale*self.height\n",
        "\n",
        "\n",
        "    if self.viewer is None:\n",
        "      #TODO: remove when it works\n",
        "      import importlib\n",
        "      import rendering\n",
        "      importlib.reload(rendering)\n",
        "\n",
        "      self.viewer = rendering.Viewer(screen_width, screen_height)\n",
        "\n",
        "      self.cases = []\n",
        "      for i in range(self.height):\n",
        "        self.cases.append([])\n",
        "        for j in range(self.width):\n",
        "          x0 = i*scale\n",
        "          y0 = j*scale\n",
        "          x1 = (i+1)*scale\n",
        "          y1 = (j+1)*scale\n",
        "          case = rendering.FilledPolygon([(y0,x0), (y0,x1), (y1,x1), (y1,x0)])\n",
        "          self.cases[i].append(case)\n",
        "          self.viewer.add_geom(case)\n",
        "      \n",
        "      circle = rendering.make_circle(radius=self.roomba.radius*scale)\n",
        "      circle.set_color(1,0,0)\n",
        "      direction_circle = rendering.make_circle(radius=self.roomba.radius*scale/2) #color?\n",
        "      direction_circle.add_attr(rendering.Transform(translation=(self.roomba.radius*scale/2,0)))\n",
        "\n",
        "      tracker = rendering.Compound([circle, direction_circle])\n",
        "\n",
        "      self.tracker_trans = rendering.Transform()\n",
        "      tracker.add_attr(self.tracker_trans)\n",
        "      self.viewer.add_geom(tracker)\n",
        "\n",
        "      \n",
        "    for i in range(self.height):\n",
        "        for j in range(self.width):\n",
        "          if self.room[i,j] == 0:\n",
        "            self.cases[i][j].set_color(1,1,1)\n",
        "          elif self.room[i,j] == 1:\n",
        "            self.cases[i][j].set_color(0.8,0.8,0.8)\n",
        "          elif self.room[i,j] == 2:\n",
        "            self.cases[i][j].set_color(0,0,0)\n",
        "          elif self.room[i,j] == 3:\n",
        "            self.cases[i][j].set_color(0.5,0.5,0)\n",
        "\n",
        "\n",
        "    self.tracker_trans.set_translation(self.roomba.pos[1]*scale, self.roomba.pos[0]*scale)\n",
        "    self.tracker_trans.set_rotation(self.roomba.direction)\n",
        "\n",
        "\n",
        "    return self.viewer.render(return_rgb_array = mode=='rgb_array')"
      ],
      "execution_count": 0,
      "outputs": []
    },
    {
      "cell_type": "code",
      "metadata": {
        "id": "iAJCwnyVJxLs",
        "colab_type": "code",
        "outputId": "c32f626d-604b-4d83-e5a5-767d33dd9273",
        "colab": {
          "base_uri": "https://localhost:8080/",
          "height": 421
        }
      },
      "source": [
        "#env = wrap_env(RoombaEnv(10, 10, 2))\n",
        "env = wrap_env(RoombaEnv(20, 20, 500, 2)) #wrap env seems to grow exponentially with H,W?? Maybe scalse\n",
        "#env = wrap_env(gym.make(\"CartPole-v0\"))\n",
        "observation = env.reset()\n",
        "\n",
        "while True:\n",
        "  \n",
        "    env.render()\n",
        "    \n",
        "    #your agent goes here\n",
        "    action = env.action_space.sample() \n",
        "         \n",
        "    observation, reward, done, info = env.step(action)\n",
        "    \n",
        "    if done:\n",
        "      break;\n",
        "            \n",
        "env.close()\n",
        "show_video()"
      ],
      "execution_count": 54,
      "outputs": [
        {
          "output_type": "display_data",
          "data": {
            "text/html": [
              "<video alt=\"test\" autoplay \n",
              "                loop controls style=\"height: 400px;\">\n",
              "                <source src=\"data:video/mp4;base64,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\" type=\"video/mp4\" />\n",
              "             </video>"
            ],
            "text/plain": [
              "<IPython.core.display.HTML object>"
            ]
          },
          "metadata": {
            "tags": []
          }
        }
      ]
    },
    {
      "cell_type": "code",
      "metadata": {
        "id": "lH_y56Zhxiw8",
        "colab_type": "code",
        "colab": {}
      },
      "source": [
        "RoombaEnv(20, 20, 500, 2)\n",
        "observation = env.reset()\n",
        "\n",
        "while True:\n",
        "  \n",
        "    \n",
        "    #your agent goes here\n",
        "    action = env.action_space.sample() \n",
        "         \n",
        "    observation, reward, done, info = env.step(action)\n",
        "    \n",
        "    if done:\n",
        "      break;\n",
        "            \n",
        "env.close()\n"
      ],
      "execution_count": 0,
      "outputs": []
    },
    {
      "cell_type": "code",
      "metadata": {
        "id": "_3Mmg-DL1xSV",
        "colab_type": "code",
        "colab": {}
      },
      "source": [
        ""
      ],
      "execution_count": 0,
      "outputs": []
    }
  ]
}